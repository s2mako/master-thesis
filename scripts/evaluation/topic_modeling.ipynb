{
 "cells": [
  {
   "cell_type": "markdown",
   "source": [
    "# Imports"
   ],
   "metadata": {
    "collapsed": false,
    "pycharm": {
     "name": "#%% md\n"
    }
   }
  },
  {
   "cell_type": "code",
   "execution_count": 79,
   "outputs": [],
   "source": [
    "import time\n",
    "from pathlib import Path\n",
    "\n",
    "# gensim\n",
    "import gensim\n",
    "from gensim import corpora\n",
    "from gensim.models.coherencemodel import CoherenceModel\n",
    "from gensim.models import LdaModel, LdaMulticore\n",
    "\n",
    "import pandas as pd\n",
    "import numpy as np"
   ],
   "metadata": {
    "collapsed": false,
    "pycharm": {
     "name": "#%%\n"
    }
   }
  },
  {
   "cell_type": "markdown",
   "source": [
    "# Parameters (need to be set)"
   ],
   "metadata": {
    "collapsed": false,
    "pycharm": {
     "name": "#%% md\n"
    }
   }
  },
  {
   "cell_type": "markdown",
   "source": [],
   "metadata": {
    "collapsed": false,
    "pycharm": {
     "name": "#%% md\n"
    }
   }
  },
  {
   "cell_type": "code",
   "execution_count": 80,
   "outputs": [],
   "source": [
    "MALLET_PATH = r\"C:\\mallet\\bin\\mallet\"  # set to where your \"bin/mallet\" path is\n",
    "\n",
    "# LDA parameters\n",
    "NUM_TOPICS = 10\n",
    "ITERATIONS = 10\n",
    "INTERVAL = 10  # topics-10 is MALLET's default\n",
    "START = 20\n",
    "LIMIT = NUM_TOPICS\n",
    "STEP = 10\n",
    "#\n",
    "seglen = \"500\"\n",
    "\n",
    "type = \"gensim\" # \"mallet\" | \"all\"\n",
    "coherence = True\n",
    "measure = \"c_v\""
   ],
   "metadata": {
    "collapsed": false,
    "pycharm": {
     "name": "#%%\n"
    }
   }
  },
  {
   "cell_type": "code",
   "execution_count": 81,
   "outputs": [],
   "source": [
    "tm_models_dir = Path(r\"C:\\Users\\martin\\git\\master-thesis\\6_models\")\n",
    "coherence_models_dir = Path(r\"C:\\Users\\martin\\git\\master-thesis\\7_evaluation\\gensim\\models\")"
   ],
   "metadata": {
    "collapsed": false,
    "pycharm": {
     "name": "#%%\n"
    }
   }
  },
  {
   "cell_type": "markdown",
   "source": [
    "Files and Folders"
   ],
   "metadata": {
    "collapsed": false
   }
  },
  {
   "cell_type": "code",
   "execution_count": 82,
   "outputs": [],
   "source": [
    "wdir = Path(\"../..\")\n",
    "\n",
    "coherence_models_dir = wdir.joinpath(\"7_evaluation\", \"gensim\", \"models\")\n",
    "corpusdir = wdir.joinpath(\"5_corpus\")\n",
    "evaluationdir = wdir.joinpath(\"6_evaluation\")\n",
    "coherencedir = wdir.joinpath(\"7_evaluation\", \"gensim\")"
   ],
   "metadata": {
    "collapsed": false,
    "pycharm": {
     "name": "#%%\n"
    }
   }
  },
  {
   "cell_type": "markdown",
   "source": [
    "# Functions"
   ],
   "metadata": {
    "collapsed": false,
    "pycharm": {
     "name": "#%% md\n"
    }
   }
  },
  {
   "cell_type": "markdown",
   "source": [
    "## Topic Modeling"
   ],
   "metadata": {
    "collapsed": false,
    "pycharm": {
     "name": "#%% md\n"
    }
   }
  },
  {
   "cell_type": "code",
   "execution_count": 86,
   "outputs": [],
   "source": [
    "def create_tm(dictionary, corpus, type):\n",
    "    if type == \"mallet\":\n",
    "         print(\"--Starting Topic Modeling (Mallet)...\")\n",
    "         return gensim.models.wrappers.LdaMallet(mallet_path=MALLET_PATH, corpus=corpus, num_topics=NUM_TOPICS,\n",
    "                                            id2word=dictionary)\n",
    "    elif type == \"gensim\":\n",
    "        print(\"--Starting Topic Modeling (Gensim)...\")\n",
    "        return LdaMulticore(corpus, num_topics=NUM_TOPICS, id2word=dictionary, workers=12)\n",
    "\n",
    "\n",
    "def read_file(file):\n",
    "    docs = []\n",
    "    for l in file.readlines():\n",
    "        doc = l.split(\" \")\n",
    "        docs.append(doc)\n",
    "    return docs\n",
    "\n",
    "\n",
    "def save_tm_model(lda_model, filename, type, topic_count):\n",
    "    format = filename.split(\"-\")[0]\n",
    "    # creating subfolders\n",
    "    modelsdir = evaluationdir.joinpath(\"models\", type)\n",
    "    segdir = modelsdir.joinpath(f\"seglen-{seglen}\")\n",
    "    topicsdir = segdir.joinpath(f\"topics-{topic_count}\")\n",
    "    topicsdir.mkdir(exist_ok=True, parents=True)\n",
    "    formatdir = topicsdir.joinpath(format)\n",
    "    formatdir.mkdir(exist_ok=True, parents=True)\n",
    "    # outfile path\n",
    "    outfile_model = formatdir.joinpath(f\"tm.bin\")\n",
    "    # write file\n",
    "    lda_model.save(str(outfile_model))\n",
    "    print(f\"--saved TM to: {outfile_model}\")\n",
    "\n",
    "\n",
    "def save_coherence_model(lda_model, texts, filename, type, measure):\n",
    "    coh_model = CoherenceModel(model=lda_model, texts=texts, coherence=measure)\n",
    "    format = filename.split(\"-\")[0]\n",
    "    # creating subfolders\n",
    "    modelsdir = evaluationdir.joinpath(\"models\", type)\n",
    "    segdir = modelsdir.joinpath(f\"seglen-{seglen}\")\n",
    "    topicsdir = segdir.joinpath(f\"topics-{topic_count}\")\n",
    "    formatdir = topicsdir.joinpath(format)\n",
    "    formatdir.mkdir(exist_ok=True, parents=True)\n",
    "    # outfile path\n",
    "    outfile_model = formatdir.joinpath(f\"coh-{measure.replace('_', '')}.bin\")\n",
    "    coh_model.save(str(outfile_model))\n",
    "    print(f\"--saved Coherence to: {outfile_model}\")\n",
    "\n",
    "    #print(f\"Overall Coherence: \", coh_model.get_coherence())\n",
    "    #print(f\"Topic Coherences:\\n\", coh_model.get_coherence_per_topic())"
   ],
   "metadata": {
    "collapsed": false,
    "pycharm": {
     "name": "#%%\n"
    }
   }
  },
  {
   "cell_type": "markdown",
   "source": [
    "# TM Parameters"
   ],
   "metadata": {
    "collapsed": false,
    "pycharm": {
     "name": "#%% md\n"
    }
   }
  },
  {
   "cell_type": "code",
   "execution_count": 84,
   "outputs": [],
   "source": [
    "type = \"gensim\" # \"mallet\" | \"gensim\" | \"all\"\n",
    "seglen = 500\n",
    "topic_count = 50\n",
    "coherence = True\n",
    "measure = \"c_v\""
   ],
   "metadata": {
    "collapsed": false,
    "pycharm": {
     "name": "#%%\n"
    }
   }
  },
  {
   "cell_type": "markdown",
   "source": [
    "# Start TM"
   ],
   "metadata": {
    "collapsed": false,
    "pycharm": {
     "name": "#%% md\n"
    }
   }
  },
  {
   "cell_type": "code",
   "execution_count": 87,
   "outputs": [
    {
     "name": "stdout",
     "output_type": "stream",
     "text": [
      "File: frq-500\n",
      "--Creating Dictionary\n",
      "--Creating Doc2Bow\n",
      "--Starting Topic Modeling (Gensim)...\n",
      "--saved TM to: ..\\..\\6_evaluation\\models\\gensim\\seglen-500\\topics-50\\frq\\tm.bin\n",
      "--saved Coherence to: ..\\..\\6_evaluation\\models\\gensim\\seglen-500\\topics-50\\frq\\coh-cv.bin\n",
      "File: original-500\n",
      "--Creating Dictionary\n",
      "--Creating Doc2Bow\n",
      "--Starting Topic Modeling (Gensim)...\n",
      "--saved TM to: ..\\..\\6_evaluation\\models\\gensim\\seglen-500\\topics-50\\original\\tm.bin\n",
      "--saved Coherence to: ..\\..\\6_evaluation\\models\\gensim\\seglen-500\\topics-50\\original\\coh-cv.bin\n",
      "File: src-500\n",
      "--Creating Dictionary\n",
      "--Creating Doc2Bow\n",
      "--Starting Topic Modeling (Gensim)...\n",
      "--saved TM to: ..\\..\\6_evaluation\\models\\gensim\\seglen-500\\topics-50\\src\\tm.bin\n",
      "--saved Coherence to: ..\\..\\6_evaluation\\models\\gensim\\seglen-500\\topics-50\\src\\coh-cv.bin\n",
      "Finished Modeling\n",
      "Elapsed timed: 58.08111119270325\n"
     ]
    }
   ],
   "source": [
    "start = time.time()\n",
    "for file in corpusdir.glob(f\"*-{seglen}.txt\"):\n",
    "    with file.open(\"r\") as f:\n",
    "        print(\"File: \" + file.stem)\n",
    "        # splitting lines to docs\n",
    "        texts = read_file(f)\n",
    "        # build a dictionary\n",
    "        print(\"--Creating Dictionary\")\n",
    "        dictionary = corpora.Dictionary(texts)\n",
    "        # Turns each document into a bag of words.\n",
    "        print(\"--Creating Doc2Bow\")\n",
    "        corpus = [dictionary.doc2bow(doc) for doc in texts]\n",
    "        lda_model = create_tm(dictionary, corpus, type)\n",
    "        save_tm_model(lda_model, file.stem, type, topic_count)\n",
    "        # create coherence model if enabled\n",
    "        if coherence:\n",
    "            # create coherence model\n",
    "            save_coherence_model(lda_model, texts, file.stem, type, measure)\n",
    "print(\"Finished Modeling\")\n",
    "end = time.time()\n",
    "print(f\"Elapsed timed: {end - start}\")"
   ],
   "metadata": {
    "collapsed": false,
    "pycharm": {
     "name": "#%%\n"
    }
   }
  },
  {
   "cell_type": "code",
   "execution_count": 5,
   "outputs": [],
   "source": [
    "def get_coherence_models(seglen, topic_count):\n",
    "    models = {}\n",
    "    for file in coherence_models_dir.glob(f\"*_{seglen}-{topic_count}*.bin\"):\n",
    "        print(f\"--{file.name}\")\n",
    "        model = CoherenceModel.load(str(file))\n",
    "        models.update({file.stem: model})\n",
    "    return models"
   ],
   "metadata": {
    "collapsed": false,
    "pycharm": {
     "name": "#%%\n"
    }
   }
  },
  {
   "cell_type": "code",
   "source": [
    "coherence_models = get_coherence_models(seglen, topic_count)"
   ],
   "metadata": {
    "collapsed": false,
    "pycharm": {
     "name": "#%%\n"
    }
   },
   "execution_count": 6,
   "outputs": [
    {
     "name": "stdout",
     "output_type": "stream",
     "text": [
      "--frq_500-1.bin\n",
      "--original_500-1.bin\n",
      "--src_500-1.bin\n"
     ]
    }
   ]
  },
  {
   "cell_type": "code",
   "execution_count": 8,
   "outputs": [
    {
     "data": {
      "text/plain": "   frq_500-1  original_500-1  src_500-1\n0   0.227331        0.302424    0.25351",
      "text/html": "<div>\n<style scoped>\n    .dataframe tbody tr th:only-of-type {\n        vertical-align: middle;\n    }\n\n    .dataframe tbody tr th {\n        vertical-align: top;\n    }\n\n    .dataframe thead th {\n        text-align: right;\n    }\n</style>\n<table border=\"1\" class=\"dataframe\">\n  <thead>\n    <tr style=\"text-align: right;\">\n      <th></th>\n      <th>frq_500-1</th>\n      <th>original_500-1</th>\n      <th>src_500-1</th>\n    </tr>\n  </thead>\n  <tbody>\n    <tr>\n      <th>0</th>\n      <td>0.227331</td>\n      <td>0.302424</td>\n      <td>0.25351</td>\n    </tr>\n  </tbody>\n</table>\n</div>"
     },
     "execution_count": 8,
     "metadata": {},
     "output_type": "execute_result"
    }
   ],
   "source": [
    "data = {}\n",
    "for name, model in coherence_models.items():\n",
    "    d = {name: [model.get_coherence()]}\n",
    "    data.update(d)\n",
    "\n",
    "models_df = pd.DataFrame(data)\n",
    "models_df.head()"
   ],
   "metadata": {
    "collapsed": false,
    "pycharm": {
     "name": "#%%\n"
    }
   }
  },
  {
   "cell_type": "code",
   "execution_count": 9,
   "outputs": [
    {
     "data": {
      "text/plain": "                                               frq_1  \\\n0  (0, 0.007*\"time\" + 0.006*\"hand\" + 0.005*\"eye\" ...   \n\n                                             model_1  \\\n0  (0, 0.007*\"time\" + 0.006*\"hand\" + 0.005*\"eye\" ...   \n\n                                          original_1  \\\n0  (0, 0.007*\"time\" + 0.006*\"hand\" + 0.005*\"eye\" ...   \n\n                                               src_1  \n0  (0, 0.007*\"time\" + 0.006*\"hand\" + 0.005*\"eye\" ...  ",
      "text/html": "<div>\n<style scoped>\n    .dataframe tbody tr th:only-of-type {\n        vertical-align: middle;\n    }\n\n    .dataframe tbody tr th {\n        vertical-align: top;\n    }\n\n    .dataframe thead th {\n        text-align: right;\n    }\n</style>\n<table border=\"1\" class=\"dataframe\">\n  <thead>\n    <tr style=\"text-align: right;\">\n      <th></th>\n      <th>frq_1</th>\n      <th>model_1</th>\n      <th>original_1</th>\n      <th>src_1</th>\n    </tr>\n  </thead>\n  <tbody>\n    <tr>\n      <th>0</th>\n      <td>(0, 0.007*\"time\" + 0.006*\"hand\" + 0.005*\"eye\" ...</td>\n      <td>(0, 0.007*\"time\" + 0.006*\"hand\" + 0.005*\"eye\" ...</td>\n      <td>(0, 0.007*\"time\" + 0.006*\"hand\" + 0.005*\"eye\" ...</td>\n      <td>(0, 0.007*\"time\" + 0.006*\"hand\" + 0.005*\"eye\" ...</td>\n    </tr>\n  </tbody>\n</table>\n</div>"
     },
     "execution_count": 9,
     "metadata": {},
     "output_type": "execute_result"
    }
   ],
   "source": [
    "data = {}\n",
    "for name, model in tm_models.items():\n",
    "    d = {name: model.show_topics()}\n",
    "    data.update(d)\n",
    "\n",
    "models_df = pd.DataFrame(data)\n",
    "models_df.head()"
   ],
   "metadata": {
    "collapsed": false,
    "pycharm": {
     "name": "#%%\n"
    }
   }
  },
  {
   "cell_type": "code",
   "execution_count": 20,
   "outputs": [
    {
     "name": "stdout",
     "output_type": "stream",
     "text": [
      "[0.2273314785136141]\n",
      "\n",
      "[0.30242439859419223]\n",
      "\n",
      "[0.25350978014942205]\n",
      "\n"
     ]
    }
   ],
   "source": [
    "for name, model in coherence_models.items():\n",
    "    print(model.get_coherence_per_topic())\n",
    "    print()"
   ],
   "metadata": {
    "collapsed": false,
    "pycharm": {
     "name": "#%%\n"
    }
   }
  }
 ],
 "metadata": {
  "kernelspec": {
   "name": "gensimtesting",
   "language": "python",
   "display_name": "gensimTesting"
  },
  "language_info": {
   "codemirror_mode": {
    "name": "ipython",
    "version": 2
   },
   "file_extension": ".py",
   "mimetype": "text/x-python",
   "name": "python",
   "nbconvert_exporter": "python",
   "pygments_lexer": "ipython2",
   "version": "2.7.6"
  }
 },
 "nbformat": 4,
 "nbformat_minor": 0
}