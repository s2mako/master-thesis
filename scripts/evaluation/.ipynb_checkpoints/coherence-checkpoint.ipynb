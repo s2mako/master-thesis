{
 "cells": [
  {
   "cell_type": "markdown",
   "metadata": {},
   "source": [
    "# Imports"
   ]
  },
  {
   "cell_type": "code",
   "execution_count": 1,
   "metadata": {
    "pycharm": {
     "name": "#%%\n"
    }
   },
   "outputs": [],
   "source": [
    "import time\n",
    "from pathlib import Path\n",
    "\n",
    "# gensim\n",
    "import gensim\n",
    "from gensim import corpora\n",
    "from gensim.models.coherencemodel import CoherenceModel\n",
    "from gensim.models import LdaModel\n",
    "\n",
    "import pandas as pd\n",
    "import numpy as np"
   ]
  },
  {
   "cell_type": "markdown",
   "metadata": {},
   "source": [
    "# Parameters (need to be set)"
   ]
  },
  {
   "cell_type": "code",
   "execution_count": null,
   "metadata": {
    "pycharm": {
     "name": "#%%\n"
    }
   },
   "outputs": [],
   "source": [
    "type = \"gensim\" # \"mallet\" | \"all\"\n",
    "seglen = 500\n",
    "topic_count = 50\n",
    "format = \"all\" # \"original\" | \"frq\" | \"src\" | \"ngram\" | \"all\"\n",
    "measure = \"cv\""
   ]
  },
  {
   "cell_type": "code",
   "execution_count": null,
   "metadata": {
    "pycharm": {
     "name": "#%%\n"
    }
   },
   "outputs": [],
   "source": [
    "wdir = Path(\"../..\")\n",
    "modelsdir = wdir.joinpath(\"6_evaluation\", \"models\")\n",
    "typedir = modelsdir.joinpath(type)"
   ]
  },
  {
   "cell_type": "code",
   "execution_count": 46,
   "metadata": {
    "pycharm": {
     "name": "#%%\n"
    }
   },
   "outputs": [],
   "source": [
    "tm_models = {}\n",
    "for file in typedir.glob(f\"seglen-{seglen}/topics-{topic_count}/*/tm.bin\"):\n",
    "    name = f\"{file.parent}-{seglen}-{topic_count}\"\n",
    "    model = LdaModel.load(str(file))\n",
    "    tm_models.update({name: model})"
   ]
  },
  {
   "cell_type": "code",
   "execution_count": 56,
   "metadata": {
    "pycharm": {
     "name": "#%%\n"
    }
   },
   "outputs": [
    {
     "name": "stdout",
     "output_type": "stream",
     "text": [
      "[(0, '0.005*\"face\" + 0.005*\"time\" + 0.005*\"stand\" + 0.005*\"sit\" + 0.004*\"friend\" + 0.004*\"house\" + 0.004*\"hand\" + 0.004*\"place\" + 0.004*\"leave\" + 0.003*\"word\"'), (1, '0.013*\"´\" + 0.009*\"eye\" + 0.007*\"time\" + 0.006*\"feel\" + 0.005*\"leave\" + 0.004*\"answer\" + 0.004*\"father\" + 0.004*\"turn\" + 0.004*\"place\" + 0.003*\"door\"'), (2, '0.006*\"feel\" + 0.005*\"hear\" + 0.005*\"hand\" + 0.005*\"time\" + 0.004*\"year\" + 0.004*\"room\" + 0.004*\"house\" + 0.004*\"face\" + 0.004*\"bring\" + 0.004*\"speak\"'), (3, '0.008*\"time\" + 0.007*\"eye\" + 0.006*\"hand\" + 0.005*\"leave\" + 0.005*\"word\" + 0.004*\"speak\" + 0.004*\"feel\" + 0.004*\"hear\" + 0.003*\"room\" + 0.003*\"night\"'), (4, '0.006*\"time\" + 0.005*\"stand\" + 0.005*\"child\" + 0.005*\"face\" + 0.004*\"eye\" + 0.004*\"leave\" + 0.004*\"answer\" + 0.004*\"mind\" + 0.004*\"hand\" + 0.003*\"voice\"'), (5, '0.007*\"hand\" + 0.007*\"time\" + 0.006*\"life\" + 0.005*\"hear\" + 0.004*\"return\" + 0.004*\"face\" + 0.004*\"leave\" + 0.004*\"turn\" + 0.004*\"head\" + 0.004*\"door\"'), (6, '0.005*\"time\" + 0.005*\"feel\" + 0.005*\"hand\" + 0.004*\"mother\" + 0.004*\"leave\" + 0.004*\"hear\" + 0.003*\"heart\" + 0.003*\"room\" + 0.003*\"stand\" + 0.003*\"answer\"'), (7, '0.007*\"time\" + 0.007*\"hand\" + 0.005*\"leave\" + 0.005*\"eye\" + 0.005*\"speak\" + 0.004*\"face\" + 0.004*\"father\" + 0.004*\"hear\" + 0.004*\"heart\" + 0.004*\"head\"'), (8, '0.009*\"time\" + 0.007*\"hand\" + 0.004*\"feel\" + 0.004*\"life\" + 0.003*\"turn\" + 0.003*\"face\" + 0.003*\"word\" + 0.003*\"mind\" + 0.003*\"eye\" + 0.003*\"bear\"'), (9, '0.007*\"time\" + 0.006*\"hand\" + 0.005*\"eye\" + 0.005*\"life\" + 0.004*\"face\" + 0.004*\"word\" + 0.004*\"turn\" + 0.004*\"house\" + 0.004*\"friend\" + 0.004*\"stand\"')]\n",
      "[(0, '0.006*\"time\" + 0.005*\"hand\" + 0.005*\"word\" + 0.004*\"leave\" + 0.004*\"heart\" + 0.004*\"place\" + 0.004*\"head\" + 0.004*\"life\" + 0.004*\"work\" + 0.003*\"house\"'), (1, '0.010*\"time\" + 0.006*\"feel\" + 0.005*\"eye\" + 0.004*\"life\" + 0.004*\"house\" + 0.004*\"hand\" + 0.004*\"face\" + 0.004*\"mind\" + 0.004*\"turn\" + 0.003*\"speak\"'), (2, '0.009*\"´\" + 0.007*\"feel\" + 0.007*\"time\" + 0.006*\"friend\" + 0.005*\"hand\" + 0.005*\"speak\" + 0.004*\"life\" + 0.004*\"leave\" + 0.004*\"eye\" + 0.004*\"face\"'), (3, '0.006*\"eye\" + 0.006*\"leave\" + 0.005*\"turn\" + 0.005*\"face\" + 0.004*\"time\" + 0.004*\"feel\" + 0.004*\"hand\" + 0.004*\"room\" + 0.004*\"speak\" + 0.004*\"child\"'), (4, '0.006*\"time\" + 0.006*\"eye\" + 0.005*\"father\" + 0.004*\"letter\" + 0.004*\"leave\" + 0.004*\"hear\" + 0.004*\"hand\" + 0.004*\"place\" + 0.004*\"write\" + 0.003*\"door\"'), (5, '0.007*\"time\" + 0.006*\"eye\" + 0.005*\"father\" + 0.005*\"hand\" + 0.004*\"feel\" + 0.004*\"turn\" + 0.004*\"leave\" + 0.004*\"mind\" + 0.004*\"life\" + 0.004*\"speak\"'), (6, '0.011*\"hand\" + 0.005*\"time\" + 0.005*\"leave\" + 0.005*\"face\" + 0.004*\"hear\" + 0.004*\"life\" + 0.004*\"word\" + 0.004*\"feel\" + 0.004*\"eye\" + 0.004*\"speak\"'), (7, '0.009*\"time\" + 0.006*\"hand\" + 0.005*\"life\" + 0.005*\"face\" + 0.004*\"eye\" + 0.004*\"bring\" + 0.004*\"mind\" + 0.004*\"year\" + 0.004*\"turn\" + 0.003*\"feel\"'), (8, '0.006*\"time\" + 0.005*\"eye\" + 0.004*\"hand\" + 0.004*\"room\" + 0.004*\"heart\" + 0.003*\"hear\" + 0.003*\"word\" + 0.003*\"place\" + 0.003*\"door\" + 0.003*\"feel\"'), (9, '0.006*\"eye\" + 0.005*\"face\" + 0.005*\"leave\" + 0.005*\"hear\" + 0.005*\"life\" + 0.004*\"mind\" + 0.004*\"feel\" + 0.004*\"word\" + 0.004*\"answer\" + 0.004*\"time\"')]\n",
      "[(0, '0.007*\"eye\" + 0.006*\"time\" + 0.005*\"room\" + 0.004*\"leave\" + 0.004*\"hand\" + 0.004*\"place\" + 0.004*\"life\" + 0.004*\"word\" + 0.004*\"speak\" + 0.003*\"face\"'), (1, '0.007*\"time\" + 0.006*\"hear\" + 0.005*\"face\" + 0.005*\"feel\" + 0.004*\"eye\" + 0.004*\"hand\" + 0.004*\"poor\" + 0.004*\"mind\" + 0.004*\"father\" + 0.004*\"turn\"'), (2, '0.006*\"hand\" + 0.005*\"face\" + 0.005*\"dear\" + 0.005*\"child\" + 0.005*\"feel\" + 0.005*\"leave\" + 0.004*\"eye\" + 0.004*\"house\" + 0.004*\"time\" + 0.004*\"father\"'), (3, '0.006*\"hand\" + 0.005*\"time\" + 0.005*\"mind\" + 0.004*\"word\" + 0.004*\"hear\" + 0.004*\"speak\" + 0.004*\"life\" + 0.004*\"eye\" + 0.003*\"feel\" + 0.003*\"leave\"'), (4, '0.008*\"time\" + 0.007*\"hand\" + 0.005*\"´\" + 0.005*\"word\" + 0.005*\"friend\" + 0.004*\"head\" + 0.004*\"eye\" + 0.004*\"leave\" + 0.004*\"speak\" + 0.004*\"room\"'), (5, '0.006*\"answer\" + 0.005*\"time\" + 0.004*\"life\" + 0.004*\"friend\" + 0.004*\"turn\" + 0.004*\"poor\" + 0.003*\"live\" + 0.003*\"heart\" + 0.003*\"word\" + 0.003*\"year\"'), (6, '0.007*\"hand\" + 0.006*\"time\" + 0.006*\"face\" + 0.006*\"speak\" + 0.004*\"life\" + 0.004*\"head\" + 0.004*\"leave\" + 0.004*\"eye\" + 0.004*\"word\" + 0.003*\"mind\"'), (7, '0.006*\"leave\" + 0.005*\"hand\" + 0.005*\"time\" + 0.005*\"life\" + 0.005*\"eye\" + 0.004*\"word\" + 0.004*\"hear\" + 0.004*\"place\" + 0.004*\"mind\" + 0.004*\"heart\"'), (8, '0.008*\"time\" + 0.005*\"father\" + 0.005*\"hand\" + 0.004*\"feel\" + 0.004*\"eye\" + 0.004*\"friend\" + 0.004*\"hear\" + 0.004*\"bring\" + 0.004*\"turn\" + 0.003*\"leave\"'), (9, '0.012*\"´\" + 0.007*\"time\" + 0.006*\"eye\" + 0.005*\"hand\" + 0.004*\"leave\" + 0.004*\"feel\" + 0.004*\"life\" + 0.004*\"house\" + 0.004*\"head\" + 0.003*\"return\"')]\n"
     ]
    }
   ],
   "source": [
    "tm_models\n",
    "for name, model in tm_models.items():\n",
    "    print(model.show_topics(num_topics=-1))"
   ]
  },
  {
   "cell_type": "code",
   "execution_count": 44,
   "metadata": {
    "pycharm": {
     "name": "#%%\n"
    }
   },
   "outputs": [],
   "source": [
    "coh_models = {}\n",
    "for file in typedir.glob(f\"seglen-{seglen}/topics-{topic_count}/*/coh-{measure}.bin\"):\n",
    "    name = f\"{file.parent}-{seglen}-{topic_count}\"\n",
    "    model = CoherenceModel.load(str(file))\n",
    "    coh_models.update({name: model})"
   ]
  },
  {
   "cell_type": "code",
   "execution_count": 2,
   "metadata": {
    "pycharm": {
     "name": "#%%\n"
    }
   },
   "outputs": [
    {
     "name": "stdout",
     "output_type": "stream",
     "text": [
      "coh_0\n",
      "coh_1\n",
      "coh_10\n",
      "coh_11\n",
      "coh_12\n",
      "coh_13\n",
      "coh_14\n",
      "coh_15\n",
      "coh_16\n",
      "coh_17\n",
      "coh_18\n",
      "coh_19\n",
      "coh_2\n",
      "coh_20\n",
      "coh_21\n",
      "coh_22\n",
      "coh_23\n",
      "coh_24\n",
      "coh_25\n",
      "coh_26\n",
      "coh_27\n",
      "coh_28\n",
      "coh_29\n",
      "coh_3\n",
      "coh_30\n",
      "coh_31\n",
      "coh_32\n",
      "coh_33\n",
      "coh_34\n",
      "coh_35\n",
      "coh_36\n",
      "coh_37\n",
      "coh_38\n",
      "coh_39\n",
      "coh_4\n",
      "coh_40\n",
      "coh_41\n",
      "coh_42\n",
      "coh_43\n",
      "coh_44\n",
      "coh_45\n",
      "coh_46\n",
      "coh_47\n",
      "coh_48\n",
      "coh_49\n",
      "coh_5\n",
      "coh_50\n",
      "coh_51\n",
      "coh_52\n",
      "coh_53\n",
      "coh_54\n",
      "coh_55\n",
      "coh_56\n",
      "coh_57\n",
      "coh_6\n",
      "coh_7\n",
      "coh_8\n",
      "coh_9\n"
     ]
    }
   ],
   "source": [
    "path = Path(r\"C:\\Users\\martin\\git\\master-thesis\\6_evaluation\\coherence-variance\")\n",
    "coh_models = {}\n",
    "for file in path.glob(\"coh*.bin\"):\n",
    "    print(file.stem)\n",
    "    coh_models.update({file.stem: CoherenceModel.load(str(file))})"
   ]
  },
  {
   "cell_type": "code",
   "execution_count": 4,
   "metadata": {
    "pycharm": {
     "name": "#%%\n"
    }
   },
   "outputs": [
    {
     "name": "stdout",
     "output_type": "stream",
     "text": [
      "coh_0 :  0.3008831671212402\n",
      "coh_1 :  0.30096139511428655\n",
      "coh_10 :  0.3001835760368094\n",
      "coh_11 :  0.3038895399972292\n",
      "coh_12 :  0.3017440263055554\n",
      "coh_13 :  0.3028383077336315\n",
      "coh_14 :  0.2980238493313405\n",
      "coh_15 :  0.2997277503064409\n",
      "coh_16 :  0.30112685055268784\n",
      "coh_17 :  0.3000484314678915\n",
      "coh_18 :  0.2993693328492526\n",
      "coh_19 :  0.3020325793982146\n",
      "coh_2 :  0.3015981453707017\n",
      "coh_20 :  0.3009976971401094\n",
      "coh_21 :  0.3013418367699669\n",
      "coh_22 :  0.3023881317052795\n",
      "coh_23 :  0.2987244642700478\n",
      "coh_24 :  0.2992326719845937\n",
      "coh_25 :  0.2988195586898432\n",
      "coh_26 :  0.2994208795838955\n",
      "coh_27 :  0.3020964919780349\n",
      "coh_28 :  0.30001148276715683\n",
      "coh_29 :  0.29802741599691857\n",
      "coh_3 :  0.29892508291072145\n",
      "coh_30 :  0.30184853610612417\n",
      "coh_31 :  0.30556406123724456\n",
      "coh_32 :  0.30625599053486185\n",
      "coh_33 :  0.29922613125280567\n",
      "coh_34 :  0.3014315864955096\n",
      "coh_35 :  0.3024508896933563\n",
      "coh_36 :  0.30041360174518517\n",
      "coh_37 :  0.3035088897537611\n",
      "coh_38 :  0.2994974228083603\n",
      "coh_39 :  0.30453076169682186\n",
      "coh_4 :  0.29955346871055044\n",
      "coh_40 :  0.30058034945906725\n",
      "coh_41 :  0.30050396882125524\n",
      "coh_42 :  0.30280593441870507\n",
      "coh_43 :  0.3043666891629201\n",
      "coh_44 :  0.2994770366789974\n",
      "coh_45 :  0.30050593195800357\n",
      "coh_46 :  0.2959894342697985\n",
      "coh_47 :  0.29805486900100464\n",
      "coh_48 :  0.3053361682659154\n",
      "coh_49 :  0.30358806600467203\n",
      "coh_5 :  0.3003936457731506\n",
      "coh_50 :  0.30232130030385646\n",
      "coh_51 :  0.30185038384892304\n",
      "coh_52 :  0.3004505367034716\n",
      "coh_53 :  0.29941857525918303\n",
      "coh_54 :  0.301765664436633\n",
      "coh_55 :  0.29925891361236007\n",
      "coh_56 :  0.2978008584033484\n",
      "coh_57 :  0.30078004443691087\n",
      "coh_6 :  0.29799424751418757\n",
      "coh_7 :  0.30003679331238137\n",
      "coh_8 :  0.30530052911074973\n",
      "coh_9 :  0.301351916901752\n"
     ]
    }
   ],
   "source": [
    "for name, models in coh_models.items():\n",
    "    print(name, \": \", models.get_coherence())"
   ]
  },
  {
   "cell_type": "markdown",
   "metadata": {
    "pycharm": {
     "name": "#%% md\n"
    }
   },
   "source": [
    "#Palmetto"
   ]
  },
  {
   "cell_type": "code",
   "execution_count": null,
   "metadata": {
    "pycharm": {
     "name": "#%%\n"
    }
   },
   "outputs": [],
   "source": []
  }
 ],
 "metadata": {
  "kernelspec": {
   "display_name": "gensimTesting",
   "language": "python",
   "name": "gensimtesting"
  },
  "language_info": {
   "codemirror_mode": {
    "name": "ipython",
    "version": 3
   },
   "file_extension": ".py",
   "mimetype": "text/x-python",
   "name": "python",
   "nbconvert_exporter": "python",
   "pygments_lexer": "ipython3",
   "version": "3.7.9"
  }
 },
 "nbformat": 4,
 "nbformat_minor": 1
}
