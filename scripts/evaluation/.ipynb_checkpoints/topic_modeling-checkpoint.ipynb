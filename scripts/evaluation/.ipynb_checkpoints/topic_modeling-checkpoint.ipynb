{
 "cells": [
  {
   "cell_type": "markdown",
   "metadata": {},
   "source": [
    "# Imports"
   ]
  },
  {
   "cell_type": "code",
   "execution_count": 3,
   "metadata": {
    "pycharm": {
     "name": "#%%\n"
    }
   },
   "outputs": [],
   "source": [
    "from pathlib import Path\n",
    "\n",
    "# gensim\n",
    "import gensim\n",
    "from gensim import corpora\n",
    "from gensim.models import LdaMulticore\n",
    "from gensim.models.coherencemodel import CoherenceModel\n",
    "from matplotlib import pyplot as plt"
   ]
  },
  {
   "cell_type": "code",
   "execution_count": 4,
   "metadata": {
    "pycharm": {
     "name": "#%%\n"
    }
   },
   "outputs": [],
   "source": [
    "MALLET_PATH = r\"C:\\mallet\\bin\\mallet\"  # set to where your \"bin/mallet\" path is"
   ]
  },
  {
   "cell_type": "code",
   "execution_count": 5,
   "metadata": {
    "pycharm": {
     "name": "#%%\n"
    }
   },
   "outputs": [],
   "source": [
    "tm_models_dir = Path(r\"C:\\Users\\martin\\git\\master-thesis\\6_models\")\n",
    "coherence_models_dir = Path(r\"C:\\Users\\martin\\git\\master-thesis\\7_evaluation\\gensim\\models\")"
   ]
  },
  {
   "cell_type": "markdown",
   "metadata": {},
   "source": [
    "Files and Folders"
   ]
  },
  {
   "cell_type": "code",
   "execution_count": 6,
   "metadata": {
    "pycharm": {
     "name": "#%%\n"
    }
   },
   "outputs": [],
   "source": [
    "wdir = Path(\"../..\")\n",
    "\n",
    "coherence_models_dir = wdir.joinpath(\"7_evaluation\", \"gensim\", \"models\")\n",
    "corpusdir = wdir.joinpath(\"5_corpus\")\n",
    "evaluationdir = wdir.joinpath(\"6_evaluation\")\n",
    "coherencedir = wdir.joinpath(\"7_evaluation\", \"gensim\")"
   ]
  },
  {
   "cell_type": "markdown",
   "metadata": {},
   "source": [
    "# Functions"
   ]
  },
  {
   "cell_type": "markdown",
   "metadata": {},
   "source": [
    "## Topic Modeling"
   ]
  },
  {
   "cell_type": "code",
   "execution_count": 7,
   "metadata": {
    "pycharm": {
     "name": "#%%\n"
    }
   },
   "outputs": [],
   "source": [
    "def create_tm(dictionary, corpus, type, topic_count):\n",
    "    if type == \"mallet\":\n",
    "        print(\"--Starting Topic Modeling (Mallet)...\")\n",
    "        return gensim.models.wrappers.LdaMallet(mallet_path=MALLET_PATH, corpus=corpus, num_topics=topic_count,\n",
    "                                                id2word=dictionary)\n",
    "    elif type == \"gensim\":\n",
    "        print(\"--Starting Topic Modeling (Gensim)...\")\n",
    "        return LdaMulticore(corpus, num_topics=NUM_TOPICS, id2word=dictionary, workers=12)\n",
    "\n",
    "\n",
    "def read_file(file):\n",
    "    docs = []\n",
    "    for l in file.open(\"r\", \"utf-8\").readlines():\n",
    "        doc = l.split(\" \")\n",
    "        docs.append(doc)\n",
    "    return docs\n",
    "\n",
    "\n",
    "def save_tm_model(lda_model, filename, type, topic_count):\n",
    "    format = filename.split(\"-\")[0]\n",
    "    # creating subfolders\n",
    "    modelsdir = evaluationdir.joinpath(\"models\", type)\n",
    "    segdir = modelsdir.joinpath(f\"seglen-{seglen}\")\n",
    "    topicsdir = segdir.joinpath(f\"topics-{topic_count}\")\n",
    "    topicsdir.mkdir(exist_ok=True, parents=True)\n",
    "    formatdir = topicsdir.joinpath(format)\n",
    "    formatdir.mkdir(exist_ok=True, parents=True)\n",
    "    # outfile path\n",
    "    outfile_model = formatdir.joinpath(f\"tm.bin\")\n",
    "    # write file\n",
    "    lda_model.save(str(outfile_model))\n",
    "    print(f\"--saved TM to: {outfile_model}\")\n",
    "\n",
    "\n",
    "def save_coherence_model(lda_model, texts, filename, type, measure):\n",
    "    coh_model = CoherenceModel(model=lda_model, texts=texts, coherence=measure)\n",
    "    format = filename.split(\"-\")[0]\n",
    "    # creating subfolders\n",
    "    modelsdir = evaluationdir.joinpath(\"models\", type)\n",
    "    segdir = modelsdir.joinpath(f\"seglen-{seglen}\")\n",
    "    topicsdir = segdir.joinpath(f\"topics-{topic_count}\")\n",
    "    formatdir = topicsdir.joinpath(format)\n",
    "    formatdir.mkdir(exist_ok=True, parents=True)\n",
    "    # outfile path\n",
    "    outfile_model = formatdir.joinpath(f\"coh-{measure.replace('_', '')}.bin\")\n",
    "    coh_model.save(str(outfile_model))\n",
    "    print(f\"--saved Coherence to: {outfile_model}\")"
   ]
  },
  {
   "cell_type": "markdown",
   "metadata": {},
   "source": [
    "# TM Parameters"
   ]
  },
  {
   "cell_type": "code",
   "execution_count": 8,
   "metadata": {
    "pycharm": {
     "name": "#%%\n"
    }
   },
   "outputs": [],
   "source": [
    "type = \"gensim\"  # \"mallet\" | \"gensim\" | \"all\"\n",
    "seglen = 500\n",
    "topic_count = 50\n",
    "measure = \"c_v\"\n",
    "# coherence graph\n",
    "create_coherence_graph = True"
   ]
  },
  {
   "cell_type": "markdown",
   "metadata": {},
   "source": [
    "# Start TM"
   ]
  },
  {
   "cell_type": "code",
   "execution_count": 9,
   "metadata": {
    "pycharm": {
     "name": "#%%\n"
    }
   },
   "outputs": [],
   "source": [
    "corpus_files = corpusdir.glob(f\"seglen-{seglen}/*.txt\")"
   ]
  },
  {
   "cell_type": "code",
   "execution_count": 10,
   "metadata": {
    "pycharm": {
     "name": "#%%\n"
    }
   },
   "outputs": [],
   "source": [
    "def compute_coherence_graph(type, texts, start, limit, step):\n",
    "    \"\"\"\n",
    "    Compute c_v coherence for various number of topics\n",
    "\n",
    "    Parameters:\n",
    "    ----------\n",
    "    dictionary : Gensim dictionary\n",
    "    corpus : Gensim corpus\n",
    "    texts : List of input texts\n",
    "    limit : Max num of topics\n",
    "\n",
    "    Returns:\n",
    "    -------\n",
    "    model_list : List of LDA topic models\n",
    "    coherence_values : Coherence values corresponding to the LDA model with respective number of topics\n",
    "    \"\"\"\n",
    "    coherence_values = []\n",
    "    model_list = []\n",
    "    # build a dictionary\n",
    "    print(\"--Creating Dictionary\")\n",
    "    dictionary = corpora.Dictionary(texts)\n",
    "    # Turns each document into a bag of words.\n",
    "    print(\"--Creating Doc2Bow\")\n",
    "    corpus = [dictionary.doc2bow(doc) for doc in texts]\n",
    "    print(\"Creating coherence Graph...\")\n",
    "    for num_topics in range(start, limit, step):\n",
    "        model = create_tm(dictionary, corpus, type)\n",
    "        model_list.append(model)\n",
    "        coherencemodel = CoherenceModel(model=model, texts=texts, dictionary=dictionary, coherence='c_v')\n",
    "        coherence_values.append(coherencemodel.get_coherence())\n",
    "\n",
    "    # Show graph\n",
    "    x = range(start, limit, step)\n",
    "    plt.plot(x, coherence_values)\n",
    "    plt.xlabel(\"Num Topics\")\n",
    "    plt.ylabel(\"Coherence score\")\n",
    "    plt.legend((\"coherence_values\"), loc='best')\n",
    "    plt.show()\n",
    "\n",
    "    # Print the coherence scores\n",
    "    for m, cv in zip(x, coherence_values):\n",
    "        print(\"Num Topics =\", m, \" has Coherence Value of\", round(cv, 4))"
   ]
  },
  {
   "cell_type": "code",
   "execution_count": 45,
   "metadata": {
    "pycharm": {
     "name": "#%%\n"
    }
   },
   "outputs": [
    {
     "name": "stdout",
     "output_type": "stream",
     "text": [
      "File: frq-500\n",
      "--Creating Dictionary\n",
      "--Creating Doc2Bow\n",
      "Creating coherence Graph...\n",
      "--Starting Topic Modeling (Gensim)...\n",
      "--Starting Topic Modeling (Gensim)...\n",
      "--Starting Topic Modeling (Gensim)...\n",
      "--Starting Topic Modeling (Gensim)...\n",
      "--Starting Topic Modeling (Gensim)...\n",
      "--Starting Topic Modeling (Gensim)...\n",
      "--Starting Topic Modeling (Gensim)...\n",
      "--Starting Topic Modeling (Gensim)...\n",
      "--Starting Topic Modeling (Gensim)...\n",
      "--Starting Topic Modeling (Gensim)...\n",
      "--Starting Topic Modeling (Gensim)...\n",
      "--Starting Topic Modeling (Gensim)...\n",
      "--Starting Topic Modeling (Gensim)...\n",
      "--Starting Topic Modeling (Gensim)...\n",
      "--Starting Topic Modeling (Gensim)...\n",
      "--Starting Topic Modeling (Gensim)...\n",
      "--Starting Topic Modeling (Gensim)...\n",
      "--Starting Topic Modeling (Gensim)...\n"
     ]
    },
    {
     "data": {
      "image/png": "[encoded data removed]",
      "text/plain": [
       "<Figure size 432x288 with 1 Axes>"
      ]
     },
     "metadata": {
      "needs_background": "light"
     },
     "output_type": "display_data"
    },
    {
     "name": "stdout",
     "output_type": "stream",
     "text": [
      "Num Topics = 10  has Coherence Value of 0.2376\n",
      "Num Topics = 15  has Coherence Value of 0.2325\n",
      "Num Topics = 20  has Coherence Value of 0.239\n",
      "Num Topics = 25  has Coherence Value of 0.2349\n",
      "Num Topics = 30  has Coherence Value of 0.2368\n",
      "Num Topics = 35  has Coherence Value of 0.238\n",
      "Num Topics = 40  has Coherence Value of 0.2368\n",
      "Num Topics = 45  has Coherence Value of 0.2342\n",
      "Num Topics = 50  has Coherence Value of 0.2357\n",
      "Num Topics = 55  has Coherence Value of 0.2363\n",
      "Num Topics = 60  has Coherence Value of 0.2365\n",
      "Num Topics = 65  has Coherence Value of 0.2351\n",
      "Num Topics = 70  has Coherence Value of 0.2356\n",
      "Num Topics = 75  has Coherence Value of 0.2347\n",
      "Num Topics = 80  has Coherence Value of 0.2363\n",
      "Num Topics = 85  has Coherence Value of 0.2352\n",
      "Num Topics = 90  has Coherence Value of 0.2351\n",
      "Num Topics = 95  has Coherence Value of 0.2347\n",
      "File: original-500\n",
      "--Creating Dictionary\n",
      "--Creating Doc2Bow\n",
      "Creating coherence Graph...\n",
      "--Starting Topic Modeling (Gensim)...\n",
      "--Starting Topic Modeling (Gensim)...\n",
      "--Starting Topic Modeling (Gensim)...\n",
      "--Starting Topic Modeling (Gensim)...\n",
      "--Starting Topic Modeling (Gensim)...\n",
      "--Starting Topic Modeling (Gensim)...\n",
      "--Starting Topic Modeling (Gensim)...\n",
      "--Starting Topic Modeling (Gensim)...\n",
      "--Starting Topic Modeling (Gensim)...\n",
      "--Starting Topic Modeling (Gensim)...\n",
      "--Starting Topic Modeling (Gensim)...\n",
      "--Starting Topic Modeling (Gensim)...\n",
      "--Starting Topic Modeling (Gensim)...\n",
      "--Starting Topic Modeling (Gensim)...\n",
      "--Starting Topic Modeling (Gensim)...\n",
      "--Starting Topic Modeling (Gensim)...\n",
      "--Starting Topic Modeling (Gensim)...\n",
      "--Starting Topic Modeling (Gensim)...\n"
     ]
    },
    {
     "data": {
      "image/png": "[encoded data removed]",
      "text/plain": [
       "<Figure size 432x288 with 1 Axes>"
      ]
     },
     "metadata": {
      "needs_background": "light"
     },
     "output_type": "display_data"
    },
    {
     "name": "stdout",
     "output_type": "stream",
     "text": [
      "Num Topics = 10  has Coherence Value of 0.3017\n",
      "Num Topics = 15  has Coherence Value of 0.3025\n",
      "Num Topics = 20  has Coherence Value of 0.3007\n",
      "Num Topics = 25  has Coherence Value of 0.2937\n",
      "Num Topics = 30  has Coherence Value of 0.3053\n",
      "Num Topics = 35  has Coherence Value of 0.3036\n",
      "Num Topics = 40  has Coherence Value of 0.3034\n",
      "Num Topics = 45  has Coherence Value of 0.3024\n",
      "Num Topics = 50  has Coherence Value of 0.3006\n",
      "Num Topics = 55  has Coherence Value of 0.2971\n",
      "Num Topics = 60  has Coherence Value of 0.301\n",
      "Num Topics = 65  has Coherence Value of 0.3071\n",
      "Num Topics = 70  has Coherence Value of 0.3043\n",
      "Num Topics = 75  has Coherence Value of 0.3001\n",
      "Num Topics = 80  has Coherence Value of 0.2985\n",
      "Num Topics = 85  has Coherence Value of 0.3083\n",
      "Num Topics = 90  has Coherence Value of 0.3033\n",
      "Num Topics = 95  has Coherence Value of 0.2954\n",
      "File: src-500\n",
      "--Creating Dictionary\n",
      "--Creating Doc2Bow\n",
      "Creating coherence Graph...\n",
      "--Starting Topic Modeling (Gensim)...\n",
      "--Starting Topic Modeling (Gensim)...\n",
      "--Starting Topic Modeling (Gensim)...\n",
      "--Starting Topic Modeling (Gensim)...\n",
      "--Starting Topic Modeling (Gensim)...\n",
      "--Starting Topic Modeling (Gensim)...\n",
      "--Starting Topic Modeling (Gensim)...\n",
      "--Starting Topic Modeling (Gensim)...\n",
      "--Starting Topic Modeling (Gensim)...\n",
      "--Starting Topic Modeling (Gensim)...\n",
      "--Starting Topic Modeling (Gensim)...\n",
      "--Starting Topic Modeling (Gensim)...\n",
      "--Starting Topic Modeling (Gensim)...\n",
      "--Starting Topic Modeling (Gensim)...\n",
      "--Starting Topic Modeling (Gensim)...\n",
      "--Starting Topic Modeling (Gensim)...\n",
      "--Starting Topic Modeling (Gensim)...\n",
      "--Starting Topic Modeling (Gensim)...\n"
     ]
    },
    {
     "data": {
      "image/png": "[encoded data removed]",
      "text/plain": [
       "<Figure size 432x288 with 1 Axes>"
      ]
     },
     "metadata": {
      "needs_background": "light"
     },
     "output_type": "display_data"
    },
    {
     "name": "stdout",
     "output_type": "stream",
     "text": [
      "Num Topics = 10  has Coherence Value of 0.2745\n",
      "Num Topics = 15  has Coherence Value of 0.2724\n",
      "Num Topics = 20  has Coherence Value of 0.2759\n",
      "Num Topics = 25  has Coherence Value of 0.272\n",
      "Num Topics = 30  has Coherence Value of 0.2772\n",
      "Num Topics = 35  has Coherence Value of 0.2812\n",
      "Num Topics = 40  has Coherence Value of 0.2723\n",
      "Num Topics = 45  has Coherence Value of 0.2787\n",
      "Num Topics = 50  has Coherence Value of 0.2754\n",
      "Num Topics = 55  has Coherence Value of 0.2807\n",
      "Num Topics = 60  has Coherence Value of 0.2721\n",
      "Num Topics = 65  has Coherence Value of 0.2768\n",
      "Num Topics = 70  has Coherence Value of 0.2708\n",
      "Num Topics = 75  has Coherence Value of 0.2756\n",
      "Num Topics = 80  has Coherence Value of 0.2704\n",
      "Num Topics = 85  has Coherence Value of 0.2671\n",
      "Num Topics = 90  has Coherence Value of 0.272\n",
      "Num Topics = 95  has Coherence Value of 0.2681\n"
     ]
    }
   ],
   "source": [
    "start = 10\n",
    "limit = 100\n",
    "step = 5\n",
    "\n",
    "for file in corpus_files:\n",
    "    print(\"File: \" + file.stem)\n",
    "    # splitting lines to docs\n",
    "    texts = read_file(file)\n",
    "    compute_coherence_graph(type=type, texts=texts, start=start,\n",
    "                            limit=limit, step=step)"
   ]
  },
  {
   "cell_type": "code",
   "execution_count": null,
   "metadata": {
    "pycharm": {
     "name": "#%%\n"
    }
   },
   "outputs": [],
   "source": [
    "start = 10\n",
    "limit = 100\n",
    "step = 5\n",
    "\n",
    "with file.open(\"r\") as f:\n",
    "    print(\"File: \" + file.stem)\n",
    "    # splitting lines to docs\n",
    "    texts = read_file(f)\n",
    "    compute_coherence_graph(type=type, texts=texts, start=start,\n",
    "                            limit=limit, step=step)"
   ]
  }
 ],
 "metadata": {
  "kernelspec": {
   "display_name": "gensimTesting",
   "language": "python",
   "name": "gensimtesting"
  },
  "language_info": {
   "codemirror_mode": {
    "name": "ipython",
    "version": 3
   },
   "file_extension": ".py",
   "mimetype": "text/x-python",
   "name": "python",
   "nbconvert_exporter": "python",
   "pygments_lexer": "ipython3",
   "version": "3.7.9"
  }
 },
 "nbformat": 4,
 "nbformat_minor": 1
}
