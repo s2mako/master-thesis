{
 "cells": [
  {
   "cell_type": "markdown",
   "source": [
    "# Imports"
   ],
   "metadata": {
    "collapsed": false
   }
  },
  {
   "cell_type": "code",
   "execution_count": null,
   "outputs": [],
   "source": [
    "import time\n",
    "from pathlib import Path\n",
    "\n",
    "# gensim\n",
    "import gensim\n",
    "from gensim import corpora\n",
    "from gensim.models.coherencemodel import CoherenceModel\n",
    "from gensim.models import LdaModel\n",
    "\n",
    "import pandas as pd\n",
    "import numpy as np"
   ],
   "metadata": {
    "collapsed": false,
    "pycharm": {
     "name": "#%%\n"
    }
   }
  },
  {
   "cell_type": "markdown",
   "source": [
    "# Parameters (need to be set)"
   ],
   "metadata": {
    "collapsed": false
   }
  },
  {
   "cell_type": "code",
   "execution_count": null,
   "outputs": [],
   "source": [
    "type = \"gensim\" # \"mallet\" | \"all\"\n",
    "seglen = 500\n",
    "topic_count = 50\n",
    "format = \"all\" # \"original\" | \"frq\" | \"src\" | \"ngram\" | \"all\"\n",
    "measure = \"cv\""
   ],
   "metadata": {
    "collapsed": false,
    "pycharm": {
     "name": "#%%\n"
    }
   }
  },
  {
   "cell_type": "code",
   "execution_count": null,
   "outputs": [],
   "source": [
    "wdir = Path(\"../..\")\n",
    "modelsdir = wdir.joinpath(\"6_evaluation\", \"models\")\n",
    "typedir = modelsdir.joinpath(type)"
   ],
   "metadata": {
    "collapsed": false,
    "pycharm": {
     "name": "#%%\n"
    }
   }
  },
  {
   "cell_type": "code",
   "execution_count": 46,
   "outputs": [],
   "source": [
    "tm_models = {}\n",
    "for file in typedir.glob(f\"seglen-{seglen}/topics-{topic_count}/*/tm.bin\"):\n",
    "    name = f\"{file.parent}-{seglen}-{topic_count}\"\n",
    "    model = LdaModel.load(str(file))\n",
    "    tm_models.update({name: model})"
   ],
   "metadata": {
    "collapsed": false,
    "pycharm": {
     "name": "#%%\n"
    }
   }
  },
  {
   "cell_type": "code",
   "execution_count": 56,
   "outputs": [
    {
     "name": "stdout",
     "output_type": "stream",
     "text": [
      "[(0, '0.005*\"face\" + 0.005*\"time\" + 0.005*\"stand\" + 0.005*\"sit\" + 0.004*\"friend\" + 0.004*\"house\" + 0.004*\"hand\" + 0.004*\"place\" + 0.004*\"leave\" + 0.003*\"word\"'), (1, '0.013*\"´\" + 0.009*\"eye\" + 0.007*\"time\" + 0.006*\"feel\" + 0.005*\"leave\" + 0.004*\"answer\" + 0.004*\"father\" + 0.004*\"turn\" + 0.004*\"place\" + 0.003*\"door\"'), (2, '0.006*\"feel\" + 0.005*\"hear\" + 0.005*\"hand\" + 0.005*\"time\" + 0.004*\"year\" + 0.004*\"room\" + 0.004*\"house\" + 0.004*\"face\" + 0.004*\"bring\" + 0.004*\"speak\"'), (3, '0.008*\"time\" + 0.007*\"eye\" + 0.006*\"hand\" + 0.005*\"leave\" + 0.005*\"word\" + 0.004*\"speak\" + 0.004*\"feel\" + 0.004*\"hear\" + 0.003*\"room\" + 0.003*\"night\"'), (4, '0.006*\"time\" + 0.005*\"stand\" + 0.005*\"child\" + 0.005*\"face\" + 0.004*\"eye\" + 0.004*\"leave\" + 0.004*\"answer\" + 0.004*\"mind\" + 0.004*\"hand\" + 0.003*\"voice\"'), (5, '0.007*\"hand\" + 0.007*\"time\" + 0.006*\"life\" + 0.005*\"hear\" + 0.004*\"return\" + 0.004*\"face\" + 0.004*\"leave\" + 0.004*\"turn\" + 0.004*\"head\" + 0.004*\"door\"'), (6, '0.005*\"time\" + 0.005*\"feel\" + 0.005*\"hand\" + 0.004*\"mother\" + 0.004*\"leave\" + 0.004*\"hear\" + 0.003*\"heart\" + 0.003*\"room\" + 0.003*\"stand\" + 0.003*\"answer\"'), (7, '0.007*\"time\" + 0.007*\"hand\" + 0.005*\"leave\" + 0.005*\"eye\" + 0.005*\"speak\" + 0.004*\"face\" + 0.004*\"father\" + 0.004*\"hear\" + 0.004*\"heart\" + 0.004*\"head\"'), (8, '0.009*\"time\" + 0.007*\"hand\" + 0.004*\"feel\" + 0.004*\"life\" + 0.003*\"turn\" + 0.003*\"face\" + 0.003*\"word\" + 0.003*\"mind\" + 0.003*\"eye\" + 0.003*\"bear\"'), (9, '0.007*\"time\" + 0.006*\"hand\" + 0.005*\"eye\" + 0.005*\"life\" + 0.004*\"face\" + 0.004*\"word\" + 0.004*\"turn\" + 0.004*\"house\" + 0.004*\"friend\" + 0.004*\"stand\"')]\n",
      "[(0, '0.006*\"time\" + 0.005*\"hand\" + 0.005*\"word\" + 0.004*\"leave\" + 0.004*\"heart\" + 0.004*\"place\" + 0.004*\"head\" + 0.004*\"life\" + 0.004*\"work\" + 0.003*\"house\"'), (1, '0.010*\"time\" + 0.006*\"feel\" + 0.005*\"eye\" + 0.004*\"life\" + 0.004*\"house\" + 0.004*\"hand\" + 0.004*\"face\" + 0.004*\"mind\" + 0.004*\"turn\" + 0.003*\"speak\"'), (2, '0.009*\"´\" + 0.007*\"feel\" + 0.007*\"time\" + 0.006*\"friend\" + 0.005*\"hand\" + 0.005*\"speak\" + 0.004*\"life\" + 0.004*\"leave\" + 0.004*\"eye\" + 0.004*\"face\"'), (3, '0.006*\"eye\" + 0.006*\"leave\" + 0.005*\"turn\" + 0.005*\"face\" + 0.004*\"time\" + 0.004*\"feel\" + 0.004*\"hand\" + 0.004*\"room\" + 0.004*\"speak\" + 0.004*\"child\"'), (4, '0.006*\"time\" + 0.006*\"eye\" + 0.005*\"father\" + 0.004*\"letter\" + 0.004*\"leave\" + 0.004*\"hear\" + 0.004*\"hand\" + 0.004*\"place\" + 0.004*\"write\" + 0.003*\"door\"'), (5, '0.007*\"time\" + 0.006*\"eye\" + 0.005*\"father\" + 0.005*\"hand\" + 0.004*\"feel\" + 0.004*\"turn\" + 0.004*\"leave\" + 0.004*\"mind\" + 0.004*\"life\" + 0.004*\"speak\"'), (6, '0.011*\"hand\" + 0.005*\"time\" + 0.005*\"leave\" + 0.005*\"face\" + 0.004*\"hear\" + 0.004*\"life\" + 0.004*\"word\" + 0.004*\"feel\" + 0.004*\"eye\" + 0.004*\"speak\"'), (7, '0.009*\"time\" + 0.006*\"hand\" + 0.005*\"life\" + 0.005*\"face\" + 0.004*\"eye\" + 0.004*\"bring\" + 0.004*\"mind\" + 0.004*\"year\" + 0.004*\"turn\" + 0.003*\"feel\"'), (8, '0.006*\"time\" + 0.005*\"eye\" + 0.004*\"hand\" + 0.004*\"room\" + 0.004*\"heart\" + 0.003*\"hear\" + 0.003*\"word\" + 0.003*\"place\" + 0.003*\"door\" + 0.003*\"feel\"'), (9, '0.006*\"eye\" + 0.005*\"face\" + 0.005*\"leave\" + 0.005*\"hear\" + 0.005*\"life\" + 0.004*\"mind\" + 0.004*\"feel\" + 0.004*\"word\" + 0.004*\"answer\" + 0.004*\"time\"')]\n",
      "[(0, '0.007*\"eye\" + 0.006*\"time\" + 0.005*\"room\" + 0.004*\"leave\" + 0.004*\"hand\" + 0.004*\"place\" + 0.004*\"life\" + 0.004*\"word\" + 0.004*\"speak\" + 0.003*\"face\"'), (1, '0.007*\"time\" + 0.006*\"hear\" + 0.005*\"face\" + 0.005*\"feel\" + 0.004*\"eye\" + 0.004*\"hand\" + 0.004*\"poor\" + 0.004*\"mind\" + 0.004*\"father\" + 0.004*\"turn\"'), (2, '0.006*\"hand\" + 0.005*\"face\" + 0.005*\"dear\" + 0.005*\"child\" + 0.005*\"feel\" + 0.005*\"leave\" + 0.004*\"eye\" + 0.004*\"house\" + 0.004*\"time\" + 0.004*\"father\"'), (3, '0.006*\"hand\" + 0.005*\"time\" + 0.005*\"mind\" + 0.004*\"word\" + 0.004*\"hear\" + 0.004*\"speak\" + 0.004*\"life\" + 0.004*\"eye\" + 0.003*\"feel\" + 0.003*\"leave\"'), (4, '0.008*\"time\" + 0.007*\"hand\" + 0.005*\"´\" + 0.005*\"word\" + 0.005*\"friend\" + 0.004*\"head\" + 0.004*\"eye\" + 0.004*\"leave\" + 0.004*\"speak\" + 0.004*\"room\"'), (5, '0.006*\"answer\" + 0.005*\"time\" + 0.004*\"life\" + 0.004*\"friend\" + 0.004*\"turn\" + 0.004*\"poor\" + 0.003*\"live\" + 0.003*\"heart\" + 0.003*\"word\" + 0.003*\"year\"'), (6, '0.007*\"hand\" + 0.006*\"time\" + 0.006*\"face\" + 0.006*\"speak\" + 0.004*\"life\" + 0.004*\"head\" + 0.004*\"leave\" + 0.004*\"eye\" + 0.004*\"word\" + 0.003*\"mind\"'), (7, '0.006*\"leave\" + 0.005*\"hand\" + 0.005*\"time\" + 0.005*\"life\" + 0.005*\"eye\" + 0.004*\"word\" + 0.004*\"hear\" + 0.004*\"place\" + 0.004*\"mind\" + 0.004*\"heart\"'), (8, '0.008*\"time\" + 0.005*\"father\" + 0.005*\"hand\" + 0.004*\"feel\" + 0.004*\"eye\" + 0.004*\"friend\" + 0.004*\"hear\" + 0.004*\"bring\" + 0.004*\"turn\" + 0.003*\"leave\"'), (9, '0.012*\"´\" + 0.007*\"time\" + 0.006*\"eye\" + 0.005*\"hand\" + 0.004*\"leave\" + 0.004*\"feel\" + 0.004*\"life\" + 0.004*\"house\" + 0.004*\"head\" + 0.003*\"return\"')]\n"
     ]
    }
   ],
   "source": [
    "tm_models\n",
    "for name, model in tm_models.items():\n",
    "    print(model.show_topics(num_topics=-1))"
   ],
   "metadata": {
    "collapsed": false,
    "pycharm": {
     "name": "#%%\n"
    }
   }
  },
  {
   "cell_type": "code",
   "execution_count": 44,
   "outputs": [],
   "source": [
    "coh_models = {}\n",
    "for file in typedir.glob(f\"seglen-{seglen}/topics-{topic_count}/*/coh-{measure}.bin\"):\n",
    "    name = f\"{file.parent}-{seglen}-{topic_count}\"\n",
    "    model = CoherenceModel.load(str(file))\n",
    "    coh_models.update({name: model})"
   ],
   "metadata": {
    "collapsed": false,
    "pycharm": {
     "name": "#%%\n"
    }
   }
  },
  {
   "cell_type": "code",
   "execution_count": 45,
   "outputs": [
    {
     "data": {
      "text/plain": "{'..\\\\..\\\\6_evaluation\\\\models\\\\gensim\\\\seglen-500\\\\topics-50\\\\frq-500-50': <gensim.models.coherencemodel.CoherenceModel at 0x21bec079308>,\n '..\\\\..\\\\6_evaluation\\\\models\\\\gensim\\\\seglen-500\\\\topics-50\\\\original-500-50': <gensim.models.coherencemodel.CoherenceModel at 0x21bba040688>,\n '..\\\\..\\\\6_evaluation\\\\models\\\\gensim\\\\seglen-500\\\\topics-50\\\\src-500-50': <gensim.models.coherencemodel.CoherenceModel at 0x21bba040648>}"
     },
     "execution_count": 45,
     "metadata": {},
     "output_type": "execute_result"
    }
   ],
   "source": [
    "coh_models\n"
   ],
   "metadata": {
    "collapsed": false,
    "pycharm": {
     "name": "#%%\n"
    }
   }
  }
 ],
 "metadata": {
  "kernelspec": {
   "name": "gensimtesting",
   "language": "python",
   "display_name": "gensimTesting"
  },
  "language_info": {
   "codemirror_mode": {
    "name": "ipython",
    "version": 2
   },
   "file_extension": ".py",
   "mimetype": "text/x-python",
   "name": "python",
   "nbconvert_exporter": "python",
   "pygments_lexer": "ipython2",
   "version": "2.7.6"
  }
 },
 "nbformat": 4,
 "nbformat_minor": 0
}